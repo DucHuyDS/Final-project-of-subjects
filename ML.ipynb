{
  "metadata": {
    "kernelspec": {
      "name": "python3",
      "display_name": "Python 3",
      "language": "python"
    },
    "language_info": {
      "name": "python",
      "version": "3.7.6",
      "mimetype": "text/x-python",
      "codemirror_mode": {
        "name": "ipython",
        "version": 3
      },
      "pygments_lexer": "ipython3",
      "nbconvert_exporter": "python",
      "file_extension": ".py"
    },
    "papermill": {
      "default_parameters": {},
      "duration": 1365.169956,
      "end_time": "2022-12-29T16:57:17.006249",
      "environment_variables": {},
      "exception": null,
      "input_path": "__notebook__.ipynb",
      "output_path": "__notebook__.ipynb",
      "parameters": {},
      "start_time": "2022-12-29T16:34:31.836293",
      "version": "2.3.4"
    },
    "vscode": {
      "interpreter": {
        "hash": "9218634a165858b2dd7cb4dffbc242499ee9c1091ce9f0509448aec65563d242"
      }
    },
    "colab": {
      "provenance": [],
      "collapsed_sections": [
        "55o2OSu62lEs"
      ]
    },
    "accelerator": "GPU",
    "gpuClass": "standard"
  },
  "nbformat_minor": 5,
  "nbformat": 4,
  "cells": [
    {
      "cell_type": "code",
      "source": [
        "!pip install Keras-Preprocessing"
      ],
      "metadata": {
        "colab": {
          "base_uri": "https://localhost:8080/"
        },
        "id": "jcFNW-vF99BY",
        "outputId": "a527e9ae-61ed-451e-930a-baea516deab0"
      },
      "id": "jcFNW-vF99BY",
      "execution_count": 1,
      "outputs": [
        {
          "output_type": "stream",
          "name": "stdout",
          "text": [
            "Looking in indexes: https://pypi.org/simple, https://us-python.pkg.dev/colab-wheels/public/simple/\n",
            "Collecting Keras-Preprocessing\n",
            "  Downloading Keras_Preprocessing-1.1.2-py2.py3-none-any.whl (42 kB)\n",
            "\u001b[2K     \u001b[90m━━━━━━━━━━━━━━━━━━━━━━━━━━━━━━━━━━━━━━━━\u001b[0m \u001b[32m42.6/42.6 kB\u001b[0m \u001b[31m1.4 MB/s\u001b[0m eta \u001b[36m0:00:00\u001b[0m\n",
            "\u001b[?25hRequirement already satisfied: six>=1.9.0 in /usr/local/lib/python3.9/dist-packages (from Keras-Preprocessing) (1.16.0)\n",
            "Requirement already satisfied: numpy>=1.9.1 in /usr/local/lib/python3.9/dist-packages (from Keras-Preprocessing) (1.22.4)\n",
            "Installing collected packages: Keras-Preprocessing\n",
            "Successfully installed Keras-Preprocessing-1.1.2\n"
          ]
        }
      ]
    },
    {
      "cell_type": "code",
      "source": [
        "import numpy as np\n",
        "import pandas as pd\n",
        "import re\n",
        "from string import ascii_lowercase\n",
        "import seaborn as sns\n",
        "import pandas as pd\n",
        "import seaborn as sns\n",
        "import matplotlib.pyplot as plt\n",
        "from sklearn.feature_extraction.text import TfidfVectorizer\n",
        "from sklearn.svm import SVC\n",
        "from sklearn.model_selection import GridSearchCV\n",
        "from sklearn.model_selection import train_test_split\n",
        "from sklearn.metrics import accuracy_score\n",
        "from sklearn.metrics import classification_report\n",
        "\n",
        "from keras.layers import Dense, Input, Bidirectional, GRU\n",
        "from keras.layers import Embedding\n",
        "from keras.preprocessing import text, sequence\n",
        "from keras.layers import concatenate, Reshape, Conv2D, MaxPool2D, Flatten, Dropout, SpatialDropout1D\n",
        "from keras.models import Model\n",
        "from keras_preprocessing.sequence import pad_sequences\n",
        "\n",
        "from tensorflow.keras.utils import to_categorical\n",
        "from tensorflow.keras.layers import Concatenate\n",
        "from tensorflow.keras.callbacks import EarlyStopping\n",
        "from tensorflow.keras.optimizers import Adam \n",
        "from tensorflow.keras.losses import CategoricalCrossentropy\n",
        "from sklearn.ensemble import RandomForestClassifier\n",
        "from xgboost import XGBClassifier"
      ],
      "metadata": {
        "id": "0GU69VXE2_00"
      },
      "id": "0GU69VXE2_00",
      "execution_count": 2,
      "outputs": []
    },
    {
      "cell_type": "markdown",
      "source": [
        "# Preprocess"
      ],
      "metadata": {
        "id": "3chHkYU9vMs2"
      },
      "id": "3chHkYU9vMs2"
    },
    {
      "cell_type": "code",
      "source": [
        "def preprocess(data):\n",
        "    data = data.lower()\n",
        "    special_characters = '.,!#$%&*\"?|\\/”“+'\n",
        "\n",
        "    #convert abbreviations      \n",
        "    with open('teencode.txt','r') as file:\n",
        "      file = file.read()\n",
        "      lines = file.split('\\n')\n",
        "      for line in lines:\n",
        "        elements = line.split('\\t')\n",
        "        data = re.sub(r'\\b{}\\b'.format(elements[0]), elements[1], data)\n",
        "    \n",
        "    #convert string: hayyyy -> hay\n",
        "    for c in ascii_lowercase:\n",
        "        data = re.sub(r'{}+'.format(c), c, data)\n",
        "      \n",
        "    # remove symbols\n",
        "    for char in special_characters:\n",
        "        data = re.sub(r'{}+'.format(re.escape(char)), ' ', data)\n",
        "    data = re.sub(r'\\s+', ' ', data)\n",
        "    return data\n"
      ],
      "metadata": {
        "id": "skdRKv_wrUTJ"
      },
      "id": "skdRKv_wrUTJ",
      "execution_count": 10,
      "outputs": []
    },
    {
      "cell_type": "code",
      "source": [
        "df = pd.read_csv('reviews.csv')\n",
        "df.info()"
      ],
      "metadata": {
        "colab": {
          "base_uri": "https://localhost:8080/"
        },
        "id": "7Y7TbHHw4Ab2",
        "outputId": "4d315aa4-386d-40c6-8d43-08530dffced9"
      },
      "id": "7Y7TbHHw4Ab2",
      "execution_count": 11,
      "outputs": [
        {
          "output_type": "stream",
          "name": "stdout",
          "text": [
            "<class 'pandas.core.frame.DataFrame'>\n",
            "RangeIndex: 16087 entries, 0 to 16086\n",
            "Data columns (total 3 columns):\n",
            " #   Column      Non-Null Count  Dtype \n",
            "---  ------      --------------  ----- \n",
            " 0   Unnamed: 0  16087 non-null  int64 \n",
            " 1   text        16087 non-null  object\n",
            " 2   label       16087 non-null  int64 \n",
            "dtypes: int64(2), object(1)\n",
            "memory usage: 377.2+ KB\n"
          ]
        }
      ]
    },
    {
      "cell_type": "code",
      "source": [
        "\n",
        "df.drop(['Unnamed: 0'],axis=1,inplace=True)\n",
        "df"
      ],
      "metadata": {
        "colab": {
          "base_uri": "https://localhost:8080/",
          "height": 424
        },
        "id": "kaGUYEqzkEoH",
        "outputId": "098bbf03-cf7c-43b5-fd36-73bac7bdf5f1"
      },
      "id": "kaGUYEqzkEoH",
      "execution_count": 12,
      "outputs": [
        {
          "output_type": "execute_result",
          "data": {
            "text/plain": [
              "                                                    text  label\n",
              "0      Dung dc sp tot cam on  shop Đóng gói sản phẩm ...      0\n",
              "1       Chất lượng sản phẩm tuyệt vời . Son mịn nhưng...      0\n",
              "2       Chất lượng sản phẩm tuyệt vời nhưng k có hộp ...      0\n",
              "3      :(( Mình hơi thất vọng 1 chút vì mình đã kỳ vọ...      1\n",
              "4      Lần trước mình mua áo gió màu hồng rất ok mà đ...      1\n",
              "...                                                  ...    ...\n",
              "16082  Chẳng biết là Shop có biết đọc hay không mua ố...      1\n",
              "16083  Cuốn này mỏng. Đọc một buổi sáng là hết. Thú t...      1\n",
              "16084                                 Mang êm chân. Đẹp       0\n",
              "16085  Tôi đã nhận đc hàng.Sau đây là vài lời muốn nó...      1\n",
              "16086              Hình vậy mà túi xấu qá kém chất lg qá      1\n",
              "\n",
              "[16087 rows x 2 columns]"
            ],
            "text/html": [
              "\n",
              "  <div id=\"df-a7de6b27-abec-4a83-94d5-124e5f7ae24a\">\n",
              "    <div class=\"colab-df-container\">\n",
              "      <div>\n",
              "<style scoped>\n",
              "    .dataframe tbody tr th:only-of-type {\n",
              "        vertical-align: middle;\n",
              "    }\n",
              "\n",
              "    .dataframe tbody tr th {\n",
              "        vertical-align: top;\n",
              "    }\n",
              "\n",
              "    .dataframe thead th {\n",
              "        text-align: right;\n",
              "    }\n",
              "</style>\n",
              "<table border=\"1\" class=\"dataframe\">\n",
              "  <thead>\n",
              "    <tr style=\"text-align: right;\">\n",
              "      <th></th>\n",
              "      <th>text</th>\n",
              "      <th>label</th>\n",
              "    </tr>\n",
              "  </thead>\n",
              "  <tbody>\n",
              "    <tr>\n",
              "      <th>0</th>\n",
              "      <td>Dung dc sp tot cam on  shop Đóng gói sản phẩm ...</td>\n",
              "      <td>0</td>\n",
              "    </tr>\n",
              "    <tr>\n",
              "      <th>1</th>\n",
              "      <td>Chất lượng sản phẩm tuyệt vời . Son mịn nhưng...</td>\n",
              "      <td>0</td>\n",
              "    </tr>\n",
              "    <tr>\n",
              "      <th>2</th>\n",
              "      <td>Chất lượng sản phẩm tuyệt vời nhưng k có hộp ...</td>\n",
              "      <td>0</td>\n",
              "    </tr>\n",
              "    <tr>\n",
              "      <th>3</th>\n",
              "      <td>:(( Mình hơi thất vọng 1 chút vì mình đã kỳ vọ...</td>\n",
              "      <td>1</td>\n",
              "    </tr>\n",
              "    <tr>\n",
              "      <th>4</th>\n",
              "      <td>Lần trước mình mua áo gió màu hồng rất ok mà đ...</td>\n",
              "      <td>1</td>\n",
              "    </tr>\n",
              "    <tr>\n",
              "      <th>...</th>\n",
              "      <td>...</td>\n",
              "      <td>...</td>\n",
              "    </tr>\n",
              "    <tr>\n",
              "      <th>16082</th>\n",
              "      <td>Chẳng biết là Shop có biết đọc hay không mua ố...</td>\n",
              "      <td>1</td>\n",
              "    </tr>\n",
              "    <tr>\n",
              "      <th>16083</th>\n",
              "      <td>Cuốn này mỏng. Đọc một buổi sáng là hết. Thú t...</td>\n",
              "      <td>1</td>\n",
              "    </tr>\n",
              "    <tr>\n",
              "      <th>16084</th>\n",
              "      <td>Mang êm chân. Đẹp</td>\n",
              "      <td>0</td>\n",
              "    </tr>\n",
              "    <tr>\n",
              "      <th>16085</th>\n",
              "      <td>Tôi đã nhận đc hàng.Sau đây là vài lời muốn nó...</td>\n",
              "      <td>1</td>\n",
              "    </tr>\n",
              "    <tr>\n",
              "      <th>16086</th>\n",
              "      <td>Hình vậy mà túi xấu qá kém chất lg qá</td>\n",
              "      <td>1</td>\n",
              "    </tr>\n",
              "  </tbody>\n",
              "</table>\n",
              "<p>16087 rows × 2 columns</p>\n",
              "</div>\n",
              "      <button class=\"colab-df-convert\" onclick=\"convertToInteractive('df-a7de6b27-abec-4a83-94d5-124e5f7ae24a')\"\n",
              "              title=\"Convert this dataframe to an interactive table.\"\n",
              "              style=\"display:none;\">\n",
              "        \n",
              "  <svg xmlns=\"http://www.w3.org/2000/svg\" height=\"24px\"viewBox=\"0 0 24 24\"\n",
              "       width=\"24px\">\n",
              "    <path d=\"M0 0h24v24H0V0z\" fill=\"none\"/>\n",
              "    <path d=\"M18.56 5.44l.94 2.06.94-2.06 2.06-.94-2.06-.94-.94-2.06-.94 2.06-2.06.94zm-11 1L8.5 8.5l.94-2.06 2.06-.94-2.06-.94L8.5 2.5l-.94 2.06-2.06.94zm10 10l.94 2.06.94-2.06 2.06-.94-2.06-.94-.94-2.06-.94 2.06-2.06.94z\"/><path d=\"M17.41 7.96l-1.37-1.37c-.4-.4-.92-.59-1.43-.59-.52 0-1.04.2-1.43.59L10.3 9.45l-7.72 7.72c-.78.78-.78 2.05 0 2.83L4 21.41c.39.39.9.59 1.41.59.51 0 1.02-.2 1.41-.59l7.78-7.78 2.81-2.81c.8-.78.8-2.07 0-2.86zM5.41 20L4 18.59l7.72-7.72 1.47 1.35L5.41 20z\"/>\n",
              "  </svg>\n",
              "      </button>\n",
              "      \n",
              "  <style>\n",
              "    .colab-df-container {\n",
              "      display:flex;\n",
              "      flex-wrap:wrap;\n",
              "      gap: 12px;\n",
              "    }\n",
              "\n",
              "    .colab-df-convert {\n",
              "      background-color: #E8F0FE;\n",
              "      border: none;\n",
              "      border-radius: 50%;\n",
              "      cursor: pointer;\n",
              "      display: none;\n",
              "      fill: #1967D2;\n",
              "      height: 32px;\n",
              "      padding: 0 0 0 0;\n",
              "      width: 32px;\n",
              "    }\n",
              "\n",
              "    .colab-df-convert:hover {\n",
              "      background-color: #E2EBFA;\n",
              "      box-shadow: 0px 1px 2px rgba(60, 64, 67, 0.3), 0px 1px 3px 1px rgba(60, 64, 67, 0.15);\n",
              "      fill: #174EA6;\n",
              "    }\n",
              "\n",
              "    [theme=dark] .colab-df-convert {\n",
              "      background-color: #3B4455;\n",
              "      fill: #D2E3FC;\n",
              "    }\n",
              "\n",
              "    [theme=dark] .colab-df-convert:hover {\n",
              "      background-color: #434B5C;\n",
              "      box-shadow: 0px 1px 3px 1px rgba(0, 0, 0, 0.15);\n",
              "      filter: drop-shadow(0px 1px 2px rgba(0, 0, 0, 0.3));\n",
              "      fill: #FFFFFF;\n",
              "    }\n",
              "  </style>\n",
              "\n",
              "      <script>\n",
              "        const buttonEl =\n",
              "          document.querySelector('#df-a7de6b27-abec-4a83-94d5-124e5f7ae24a button.colab-df-convert');\n",
              "        buttonEl.style.display =\n",
              "          google.colab.kernel.accessAllowed ? 'block' : 'none';\n",
              "\n",
              "        async function convertToInteractive(key) {\n",
              "          const element = document.querySelector('#df-a7de6b27-abec-4a83-94d5-124e5f7ae24a');\n",
              "          const dataTable =\n",
              "            await google.colab.kernel.invokeFunction('convertToInteractive',\n",
              "                                                     [key], {});\n",
              "          if (!dataTable) return;\n",
              "\n",
              "          const docLinkHtml = 'Like what you see? Visit the ' +\n",
              "            '<a target=\"_blank\" href=https://colab.research.google.com/notebooks/data_table.ipynb>data table notebook</a>'\n",
              "            + ' to learn more about interactive tables.';\n",
              "          element.innerHTML = '';\n",
              "          dataTable['output_type'] = 'display_data';\n",
              "          await google.colab.output.renderOutput(dataTable, element);\n",
              "          const docLink = document.createElement('div');\n",
              "          docLink.innerHTML = docLinkHtml;\n",
              "          element.appendChild(docLink);\n",
              "        }\n",
              "      </script>\n",
              "    </div>\n",
              "  </div>\n",
              "  "
            ]
          },
          "metadata": {},
          "execution_count": 12
        }
      ]
    },
    {
      "cell_type": "code",
      "source": [
        "df['text'] = df['text'].apply(preprocess)\n",
        "df"
      ],
      "metadata": {
        "colab": {
          "base_uri": "https://localhost:8080/",
          "height": 424
        },
        "id": "ZKHWJTzOkP_i",
        "outputId": "544c5132-99bd-47e0-e4cc-e00d44a1a524"
      },
      "id": "ZKHWJTzOkP_i",
      "execution_count": 13,
      "outputs": [
        {
          "output_type": "execute_result",
          "data": {
            "text/plain": [
              "                                                    text  label\n",
              "0      dung được sp tot cam on shop đóng gói sản phẩm...      0\n",
              "1       chất lượng sản phẩm tuyệt vời son mịn nhưng k...      0\n",
              "2       chất lượng sản phẩm tuyệt vời nhưng không có ...      0\n",
              "3      :(( mình hơi thất vọng 1 chút vì mình đã kỳ vọ...      1\n",
              "4      lần trước mình mua áo gió màu hồng rất ok mà đ...      1\n",
              "...                                                  ...    ...\n",
              "16082  chẳng biết là shop có biết đọc hay không mua ố...      1\n",
              "16083  cuốn này mỏng đọc một buổi sáng là hết thú thậ...      1\n",
              "16084                                  mang êm chân đẹp       0\n",
              "16085  tôi đã nhận được hàng sau đây là vài lời muốn ...      1\n",
              "16086         hình vậy mà túi xấu quá kém chất lượng quá      1\n",
              "\n",
              "[16087 rows x 2 columns]"
            ],
            "text/html": [
              "\n",
              "  <div id=\"df-b15a7cbf-c82c-4c85-b42b-cc569a2426e7\">\n",
              "    <div class=\"colab-df-container\">\n",
              "      <div>\n",
              "<style scoped>\n",
              "    .dataframe tbody tr th:only-of-type {\n",
              "        vertical-align: middle;\n",
              "    }\n",
              "\n",
              "    .dataframe tbody tr th {\n",
              "        vertical-align: top;\n",
              "    }\n",
              "\n",
              "    .dataframe thead th {\n",
              "        text-align: right;\n",
              "    }\n",
              "</style>\n",
              "<table border=\"1\" class=\"dataframe\">\n",
              "  <thead>\n",
              "    <tr style=\"text-align: right;\">\n",
              "      <th></th>\n",
              "      <th>text</th>\n",
              "      <th>label</th>\n",
              "    </tr>\n",
              "  </thead>\n",
              "  <tbody>\n",
              "    <tr>\n",
              "      <th>0</th>\n",
              "      <td>dung được sp tot cam on shop đóng gói sản phẩm...</td>\n",
              "      <td>0</td>\n",
              "    </tr>\n",
              "    <tr>\n",
              "      <th>1</th>\n",
              "      <td>chất lượng sản phẩm tuyệt vời son mịn nhưng k...</td>\n",
              "      <td>0</td>\n",
              "    </tr>\n",
              "    <tr>\n",
              "      <th>2</th>\n",
              "      <td>chất lượng sản phẩm tuyệt vời nhưng không có ...</td>\n",
              "      <td>0</td>\n",
              "    </tr>\n",
              "    <tr>\n",
              "      <th>3</th>\n",
              "      <td>:(( mình hơi thất vọng 1 chút vì mình đã kỳ vọ...</td>\n",
              "      <td>1</td>\n",
              "    </tr>\n",
              "    <tr>\n",
              "      <th>4</th>\n",
              "      <td>lần trước mình mua áo gió màu hồng rất ok mà đ...</td>\n",
              "      <td>1</td>\n",
              "    </tr>\n",
              "    <tr>\n",
              "      <th>...</th>\n",
              "      <td>...</td>\n",
              "      <td>...</td>\n",
              "    </tr>\n",
              "    <tr>\n",
              "      <th>16082</th>\n",
              "      <td>chẳng biết là shop có biết đọc hay không mua ố...</td>\n",
              "      <td>1</td>\n",
              "    </tr>\n",
              "    <tr>\n",
              "      <th>16083</th>\n",
              "      <td>cuốn này mỏng đọc một buổi sáng là hết thú thậ...</td>\n",
              "      <td>1</td>\n",
              "    </tr>\n",
              "    <tr>\n",
              "      <th>16084</th>\n",
              "      <td>mang êm chân đẹp</td>\n",
              "      <td>0</td>\n",
              "    </tr>\n",
              "    <tr>\n",
              "      <th>16085</th>\n",
              "      <td>tôi đã nhận được hàng sau đây là vài lời muốn ...</td>\n",
              "      <td>1</td>\n",
              "    </tr>\n",
              "    <tr>\n",
              "      <th>16086</th>\n",
              "      <td>hình vậy mà túi xấu quá kém chất lượng quá</td>\n",
              "      <td>1</td>\n",
              "    </tr>\n",
              "  </tbody>\n",
              "</table>\n",
              "<p>16087 rows × 2 columns</p>\n",
              "</div>\n",
              "      <button class=\"colab-df-convert\" onclick=\"convertToInteractive('df-b15a7cbf-c82c-4c85-b42b-cc569a2426e7')\"\n",
              "              title=\"Convert this dataframe to an interactive table.\"\n",
              "              style=\"display:none;\">\n",
              "        \n",
              "  <svg xmlns=\"http://www.w3.org/2000/svg\" height=\"24px\"viewBox=\"0 0 24 24\"\n",
              "       width=\"24px\">\n",
              "    <path d=\"M0 0h24v24H0V0z\" fill=\"none\"/>\n",
              "    <path d=\"M18.56 5.44l.94 2.06.94-2.06 2.06-.94-2.06-.94-.94-2.06-.94 2.06-2.06.94zm-11 1L8.5 8.5l.94-2.06 2.06-.94-2.06-.94L8.5 2.5l-.94 2.06-2.06.94zm10 10l.94 2.06.94-2.06 2.06-.94-2.06-.94-.94-2.06-.94 2.06-2.06.94z\"/><path d=\"M17.41 7.96l-1.37-1.37c-.4-.4-.92-.59-1.43-.59-.52 0-1.04.2-1.43.59L10.3 9.45l-7.72 7.72c-.78.78-.78 2.05 0 2.83L4 21.41c.39.39.9.59 1.41.59.51 0 1.02-.2 1.41-.59l7.78-7.78 2.81-2.81c.8-.78.8-2.07 0-2.86zM5.41 20L4 18.59l7.72-7.72 1.47 1.35L5.41 20z\"/>\n",
              "  </svg>\n",
              "      </button>\n",
              "      \n",
              "  <style>\n",
              "    .colab-df-container {\n",
              "      display:flex;\n",
              "      flex-wrap:wrap;\n",
              "      gap: 12px;\n",
              "    }\n",
              "\n",
              "    .colab-df-convert {\n",
              "      background-color: #E8F0FE;\n",
              "      border: none;\n",
              "      border-radius: 50%;\n",
              "      cursor: pointer;\n",
              "      display: none;\n",
              "      fill: #1967D2;\n",
              "      height: 32px;\n",
              "      padding: 0 0 0 0;\n",
              "      width: 32px;\n",
              "    }\n",
              "\n",
              "    .colab-df-convert:hover {\n",
              "      background-color: #E2EBFA;\n",
              "      box-shadow: 0px 1px 2px rgba(60, 64, 67, 0.3), 0px 1px 3px 1px rgba(60, 64, 67, 0.15);\n",
              "      fill: #174EA6;\n",
              "    }\n",
              "\n",
              "    [theme=dark] .colab-df-convert {\n",
              "      background-color: #3B4455;\n",
              "      fill: #D2E3FC;\n",
              "    }\n",
              "\n",
              "    [theme=dark] .colab-df-convert:hover {\n",
              "      background-color: #434B5C;\n",
              "      box-shadow: 0px 1px 3px 1px rgba(0, 0, 0, 0.15);\n",
              "      filter: drop-shadow(0px 1px 2px rgba(0, 0, 0, 0.3));\n",
              "      fill: #FFFFFF;\n",
              "    }\n",
              "  </style>\n",
              "\n",
              "      <script>\n",
              "        const buttonEl =\n",
              "          document.querySelector('#df-b15a7cbf-c82c-4c85-b42b-cc569a2426e7 button.colab-df-convert');\n",
              "        buttonEl.style.display =\n",
              "          google.colab.kernel.accessAllowed ? 'block' : 'none';\n",
              "\n",
              "        async function convertToInteractive(key) {\n",
              "          const element = document.querySelector('#df-b15a7cbf-c82c-4c85-b42b-cc569a2426e7');\n",
              "          const dataTable =\n",
              "            await google.colab.kernel.invokeFunction('convertToInteractive',\n",
              "                                                     [key], {});\n",
              "          if (!dataTable) return;\n",
              "\n",
              "          const docLinkHtml = 'Like what you see? Visit the ' +\n",
              "            '<a target=\"_blank\" href=https://colab.research.google.com/notebooks/data_table.ipynb>data table notebook</a>'\n",
              "            + ' to learn more about interactive tables.';\n",
              "          element.innerHTML = '';\n",
              "          dataTable['output_type'] = 'display_data';\n",
              "          await google.colab.output.renderOutput(dataTable, element);\n",
              "          const docLink = document.createElement('div');\n",
              "          docLink.innerHTML = docLinkHtml;\n",
              "          element.appendChild(docLink);\n",
              "        }\n",
              "      </script>\n",
              "    </div>\n",
              "  </div>\n",
              "  "
            ]
          },
          "metadata": {},
          "execution_count": 13
        }
      ]
    },
    {
      "cell_type": "code",
      "source": [
        "#0: tích cực   1:tiêu cực\n",
        "sns.countplot(x=df[\"label\"])\n"
      ],
      "metadata": {
        "colab": {
          "base_uri": "https://localhost:8080/",
          "height": 466
        },
        "id": "1Hrh8NoulLsP",
        "outputId": "7375e001-c0e1-4c81-b77f-4dfee1c16ff0"
      },
      "id": "1Hrh8NoulLsP",
      "execution_count": null,
      "outputs": [
        {
          "output_type": "execute_result",
          "data": {
            "text/plain": [
              "<Axes: xlabel='label', ylabel='count'>"
            ]
          },
          "metadata": {},
          "execution_count": 16
        },
        {
          "output_type": "display_data",
          "data": {
            "text/plain": [
              "<Figure size 640x480 with 1 Axes>"
            ],
            "image/png": "[encoded data removed]"
          },
          "metadata": {}
        }
      ]
    },
    {
      "cell_type": "code",
      "source": [
        "list_len_texs = [len(i) for i in df['text']]\n",
        "plt.xlabel('length')\n",
        "sns.histplot( x=list_len_texs)"
      ],
      "metadata": {
        "colab": {
          "base_uri": "https://localhost:8080/",
          "height": 466
        },
        "id": "Kbt-s0PRknYK",
        "outputId": "a2b41833-7616-48fa-da45-41716aaddbed"
      },
      "id": "Kbt-s0PRknYK",
      "execution_count": null,
      "outputs": [
        {
          "output_type": "execute_result",
          "data": {
            "text/plain": [
              "<Axes: xlabel='length', ylabel='Count'>"
            ]
          },
          "metadata": {},
          "execution_count": 17
        },
        {
          "output_type": "display_data",
          "data": {
            "text/plain": [
              "<Figure size 640x480 with 1 Axes>"
            ],
            "image/png": "[encoded data removed]"
          },
          "metadata": {}
        }
      ]
    },
    {
      "cell_type": "code",
      "source": [
        "X_train, X_test, y_train, y_test = train_test_split(df['text'],df['label'],train_size = 0.85,random_state=42)\n",
        "\n",
        "X_train, X_valid, y_train, y_valid = train_test_split(X_train,y_train,train_size = 0.8,random_state=42)"
      ],
      "metadata": {
        "id": "0MXlZBdwm6-b"
      },
      "id": "0MXlZBdwm6-b",
      "execution_count": null,
      "outputs": []
    },
    {
      "cell_type": "code",
      "source": [
        "X_train.shape,X_test.shape,X_valid.shape"
      ],
      "metadata": {
        "colab": {
          "base_uri": "https://localhost:8080/"
        },
        "id": "hNADIGkJm9q4",
        "outputId": "d4c1e5af-544c-4259-f01a-58bd1c4ef888"
      },
      "id": "hNADIGkJm9q4",
      "execution_count": null,
      "outputs": [
        {
          "output_type": "execute_result",
          "data": {
            "text/plain": [
              "((10938,), (2414,), (2735,))"
            ]
          },
          "metadata": {},
          "execution_count": 19
        }
      ]
    },
    {
      "cell_type": "code",
      "source": [
        "tokenizer = text.Tokenizer(num_words=10000, lower=True)\n",
        "tokenizer.fit_on_texts(X_train.astype(str))"
      ],
      "metadata": {
        "id": "KfHt-1XGmLjp"
      },
      "id": "KfHt-1XGmLjp",
      "execution_count": null,
      "outputs": []
    },
    {
      "cell_type": "code",
      "source": [
        "maxlen = 1000\n",
        "X_train_fold = [str(p) for p in list(X_train)]\n",
        "X_train_fold = tokenizer.texts_to_sequences(X_train_fold)\n",
        "X_train_fold = pad_sequences(X_train_fold, maxlen=maxlen)\n",
        "\n",
        "X_test_fold = [str(p) for p in list(X_test)]\n",
        "X_test_fold = tokenizer.texts_to_sequences(X_test_fold)\n",
        "X_test_fold = pad_sequences(X_test_fold, maxlen=maxlen)\n",
        "\n",
        "X_valid_fold = [str(p) for p in list(X_valid)]\n",
        "X_valid_fold = tokenizer.texts_to_sequences(X_valid_fold)\n",
        "X_valid_fold = pad_sequences(X_valid_fold, maxlen=maxlen)\n"
      ],
      "metadata": {
        "id": "EY0ufNdPnW-u"
      },
      "id": "EY0ufNdPnW-u",
      "execution_count": null,
      "outputs": []
    },
    {
      "cell_type": "markdown",
      "source": [
        "# RandomForest"
      ],
      "metadata": {
        "id": "AV1BWVW225sn"
      },
      "id": "AV1BWVW225sn"
    },
    {
      "cell_type": "code",
      "source": [
        "param_grid_rand = {\n",
        "    'n_estimators': [100, 200, 500,1000],\n",
        "    'min_samples_split': [2, 5, 10,15],\n",
        "}\n",
        "clf_rand = RandomForestClassifier()\n",
        "\n",
        "clf_rand = GridSearchCV(clf_rand, param_grid=param_grid_rand, cv=5, n_jobs=-1)\n",
        "clf_rand.fit(X_train_fold, y_train)\n",
        "\n",
        "\n",
        "print(\"Best hyperparameters: \", clf_rand.best_params_)"
      ],
      "metadata": {
        "id": "cW04K4oNCzUA",
        "colab": {
          "base_uri": "https://localhost:8080/"
        },
        "outputId": "5f110215-8fe5-4d2c-d65c-5657571ed3f9"
      },
      "id": "cW04K4oNCzUA",
      "execution_count": null,
      "outputs": [
        {
          "output_type": "stream",
          "name": "stdout",
          "text": [
            "Best hyperparameters:  {'min_samples_split': 2, 'n_estimators': 500}\n"
          ]
        }
      ]
    },
    {
      "cell_type": "code",
      "source": [
        "# test\n",
        "y_pred_test_rand = clf_rand.predict(X_test_fold)\n",
        "\n",
        "print(classification_report(y_test, y_pred_test_rand, digits = 4))"
      ],
      "metadata": {
        "colab": {
          "base_uri": "https://localhost:8080/"
        },
        "id": "DVQRRuPIxUwn",
        "outputId": "2cc29f69-2d17-4765-aa05-4970ca97183e"
      },
      "id": "DVQRRuPIxUwn",
      "execution_count": null,
      "outputs": [
        {
          "output_type": "stream",
          "name": "stdout",
          "text": [
            "              precision    recall  f1-score   support\n",
            "\n",
            "           0     0.7495    0.8079    0.7776      1400\n",
            "           1     0.7028    0.6272    0.6628      1014\n",
            "\n",
            "    accuracy                         0.7320      2414\n",
            "   macro avg     0.7261    0.7175    0.7202      2414\n",
            "weighted avg     0.7299    0.7320    0.7294      2414\n",
            "\n"
          ]
        }
      ]
    },
    {
      "cell_type": "code",
      "source": [
        "# valid\n",
        "y_pred_valid_rand = clf_rand.predict(X_valid_fold)\n",
        "\n",
        "print(classification_report(y_valid, y_pred_valid_rand, digits = 4))"
      ],
      "metadata": {
        "colab": {
          "base_uri": "https://localhost:8080/"
        },
        "id": "BCz3sy-KFL1w",
        "outputId": "846724c0-467b-41ed-8f0c-c32932f092d5"
      },
      "id": "BCz3sy-KFL1w",
      "execution_count": null,
      "outputs": [
        {
          "output_type": "stream",
          "name": "stdout",
          "text": [
            "              precision    recall  f1-score   support\n",
            "\n",
            "           0     0.7641    0.7893    0.7765      1547\n",
            "           1     0.7133    0.6827    0.6976      1188\n",
            "\n",
            "    accuracy                         0.7430      2735\n",
            "   macro avg     0.7387    0.7360    0.7371      2735\n",
            "weighted avg     0.7420    0.7430    0.7422      2735\n",
            "\n"
          ]
        }
      ]
    },
    {
      "cell_type": "markdown",
      "source": [],
      "metadata": {
        "id": "PBc61EZYF72m"
      },
      "id": "PBc61EZYF72m"
    },
    {
      "cell_type": "markdown",
      "source": [
        "# XGBoost"
      ],
      "metadata": {
        "id": "nYi5NESeF9kJ"
      },
      "id": "nYi5NESeF9kJ"
    },
    {
      "cell_type": "code",
      "source": [
        "param_grid_xgb = {\n",
        "    'max_depth': [5, 7, 9],\n",
        "    'n_estimators': [200,500, 1000]\n",
        "}\n",
        "\n",
        "clf_xgb = XGBClassifier()\n",
        "grid_search = GridSearchCV(clf_xgb, param_grid=param_grid_xgb, cv=5, n_jobs=-1)\n",
        "\n",
        "grid_search.fit(X_train_fold, y_train)\n",
        "\n",
        "print(\"Best parameters found: \", grid_search.best_params_)"
      ],
      "metadata": {
        "colab": {
          "base_uri": "https://localhost:8080/"
        },
        "id": "wTK8aU_5Hd38",
        "outputId": "ad5f94ce-5c85-428d-c514-43da9a054f36"
      },
      "id": "wTK8aU_5Hd38",
      "execution_count": null,
      "outputs": [
        {
          "output_type": "stream",
          "name": "stdout",
          "text": [
            "Best parameters found:  {'max_depth': 5, 'n_estimators': 500}\n"
          ]
        }
      ]
    },
    {
      "cell_type": "code",
      "source": [
        "# test\n",
        "y_pred_test_xgb = clf_xgb.predict(X_test_fold)\n",
        "print(classification_report(y_test, y_pred_test_xgb, digits = 4))"
      ],
      "metadata": {
        "colab": {
          "base_uri": "https://localhost:8080/"
        },
        "id": "SAR8XC4lJA6L",
        "outputId": "20ce4268-81a1-47d1-b26c-e55c5c2213cb"
      },
      "id": "SAR8XC4lJA6L",
      "execution_count": null,
      "outputs": [
        {
          "output_type": "stream",
          "name": "stdout",
          "text": [
            "              precision    recall  f1-score   support\n",
            "\n",
            "           0     0.8275    0.8293    0.8284      1400\n",
            "           1     0.7636    0.7613    0.7625      1014\n",
            "\n",
            "    accuracy                         0.8007      2414\n",
            "   macro avg     0.7956    0.7953    0.7954      2414\n",
            "weighted avg     0.8007    0.8007    0.8007      2414\n",
            "\n"
          ]
        }
      ]
    },
    {
      "cell_type": "code",
      "source": [
        "# valid\n",
        "y_pred_valid_xgb = clf_xgb.predict(X_valid_fold)\n",
        "print(classification_report(y_valid, y_pred_valid_xgb, digits = 4))"
      ],
      "metadata": {
        "colab": {
          "base_uri": "https://localhost:8080/"
        },
        "id": "z7TScJh7c9FT",
        "outputId": "200ffac8-39e7-4aff-ceb9-760b9db6ccb0"
      },
      "id": "z7TScJh7c9FT",
      "execution_count": null,
      "outputs": [
        {
          "output_type": "stream",
          "name": "stdout",
          "text": [
            "              precision    recall  f1-score   support\n",
            "\n",
            "           0     0.8283    0.8106    0.8193      1547\n",
            "           1     0.7600    0.7811    0.7704      1188\n",
            "\n",
            "    accuracy                         0.7978      2735\n",
            "   macro avg     0.7942    0.7959    0.7949      2735\n",
            "weighted avg     0.7986    0.7978    0.7981      2735\n",
            "\n"
          ]
        }
      ]
    },
    {
      "cell_type": "markdown",
      "source": [
        "# CNN + WORD EMBEDDING"
      ],
      "metadata": {
        "id": "55o2OSu62lEs"
      },
      "id": "55o2OSu62lEs"
    },
    {
      "cell_type": "code",
      "source": [
        "embeddings_index ={}\n",
        "\n",
        "#Dowload cc.vi.300 at: https://fasttext.cc/docs/en/crawl-vectors.html\n",
        "with open('cc.vi.300.vec', encoding='utf8') as f:\n",
        "    for line in f:\n",
        "        values = line.rstrip().rsplit(' ')\n",
        "        word = values[0]\n",
        "        coefs = np.asarray(values[1:], dtype='float32')\n",
        "        embeddings_index[word] = coefs\n",
        "\n"
      ],
      "metadata": {
        "papermill": {
          "duration": 146.011087,
          "end_time": "2022-12-29T16:37:16.308537",
          "exception": false,
          "start_time": "2022-12-29T16:34:50.297450",
          "status": "completed"
        },
        "tags": [],
        "execution": {
          "iopub.status.busy": "2023-03-12T03:21:29.700807Z",
          "iopub.execute_input": "2023-03-12T03:21:29.701492Z",
          "iopub.status.idle": "2023-03-12T03:21:29.705608Z",
          "shell.execute_reply.started": "2023-03-12T03:21:29.701447Z",
          "shell.execute_reply": "2023-03-12T03:21:29.704622Z"
        },
        "trusted": true,
        "id": "-U_CLQD72dXG"
      },
      "execution_count": null,
      "outputs": [],
      "id": "-U_CLQD72dXG"
    },
    {
      "cell_type": "code",
      "source": [
        "max_features = 3000\n",
        "embed_size = 300\n",
        "batch_size = 1024\n",
        "epochs = 10\n",
        "\n",
        "word_index = tokenizer.word_index\n",
        "num_words = len(word_index) + 1\n",
        "embedding_matrix = np.zeros((num_words, embed_size))\n",
        "max_features = num_words\n",
        "\n",
        "for word, i in word_index.items():\n",
        "    if i >= max_features:\n",
        "        continue\n",
        "\n",
        "    embedding_vector = embeddings_index.get(word)\n",
        "    if embedding_vector is not None:\n",
        "        embedding_matrix[i] = embedding_vector"
      ],
      "metadata": {
        "papermill": {
          "duration": 0.032504,
          "end_time": "2022-12-29T16:37:16.344909",
          "exception": false,
          "start_time": "2022-12-29T16:37:16.312405",
          "status": "completed"
        },
        "tags": [],
        "execution": {
          "iopub.status.busy": "2023-03-12T03:21:29.707306Z",
          "iopub.execute_input": "2023-03-12T03:21:29.707994Z",
          "iopub.status.idle": "2023-03-12T03:21:29.736833Z",
          "shell.execute_reply.started": "2023-03-12T03:21:29.707953Z",
          "shell.execute_reply": "2023-03-12T03:21:29.736011Z"
        },
        "trusted": true,
        "id": "K5LrXK5n2dXH"
      },
      "execution_count": null,
      "outputs": [],
      "id": "K5LrXK5n2dXH"
    },
    {
      "cell_type": "code",
      "source": [
        "\n",
        "\n",
        "filter_sizes = [1,2,3,5]\n",
        "num_filters = 32\n",
        "\n",
        "inp = Input(shape=(maxlen,))\n",
        "x = Embedding(max_features, embed_size, weights =[embedding_matrix])(inp)\n",
        "x = SpatialDropout1D(0.4)(x)\n",
        "x = Reshape((maxlen, embed_size, 1))(x)\n",
        "\n",
        "conv_0 = Conv2D(num_filters, kernel_size=(filter_sizes[0], embed_size), kernel_initializer='normal',\n",
        "                activation='elu' , name='conv_0')(x)\n",
        "maxpool_0 = MaxPool2D(pool_size=(maxlen - filter_sizes[0] + 1, 1),name='pool_0')(conv_0)\n",
        "\n",
        "\n",
        "conv_1 = Conv2D(num_filters, kernel_size=(filter_sizes[1], embed_size), kernel_initializer='normal',\n",
        "                activation='elu', name='conv_1')(x)\n",
        "maxpool_1 = MaxPool2D(pool_size=(maxlen - filter_sizes[1] + 1, 1),name='pool_1')(conv_1)\n",
        "\n",
        "\n",
        "conv_2 = Conv2D(num_filters, kernel_size=(filter_sizes[2], embed_size), kernel_initializer='normal',\n",
        "                activation='elu', name='conv_2')(x)\n",
        "maxpool_2 = MaxPool2D(pool_size=(maxlen - filter_sizes[2] + 1, 1),name='pool_2')(conv_2)\n",
        "\n",
        "\n",
        "conv_3 = Conv2D(num_filters, kernel_size=(filter_sizes[3], embed_size), kernel_initializer='normal',\n",
        "                activation='elu', name='conv_3')(x)\n",
        "maxpool_3 = MaxPool2D(pool_size=(maxlen - filter_sizes[3] + 1, 1),name='pool_3')(conv_3)\n",
        "\n",
        "z = Concatenate(axis=1)([maxpool_0, maxpool_1, maxpool_2, maxpool_3])\n",
        "z = Flatten()(z)\n",
        "z = Dropout(0.4)(z)\n",
        "\n",
        "outp = Dense(2, activation=\"softmax\")(z)\n",
        "\n",
        "optimizer = Adam(beta_1=0.9, beta_2=0.999)\n",
        "\n",
        "loss = CategoricalCrossentropy()\n",
        "\n",
        "model = Model(inputs=inp, outputs=outp)\n",
        "model.compile(loss=loss,\n",
        "              optimizer=optimizer,\n",
        "              metrics=['categorical_accuracy'])\n",
        "model.summary()"
      ],
      "metadata": {
        "papermill": {
          "duration": 0.250516,
          "end_time": "2022-12-29T16:37:16.599328",
          "exception": false,
          "start_time": "2022-12-29T16:37:16.348812",
          "status": "completed"
        },
        "tags": [],
        "execution": {
          "iopub.status.busy": "2023-03-12T03:22:17.615733Z",
          "iopub.execute_input": "2023-03-12T03:22:17.616059Z",
          "iopub.status.idle": "2023-03-12T03:22:17.740813Z",
          "shell.execute_reply.started": "2023-03-12T03:22:17.616023Z",
          "shell.execute_reply": "2023-03-12T03:22:17.738602Z"
        },
        "trusted": true,
        "id": "ccgNgdFe2dXI",
        "outputId": "318dbd9b-ec0a-46f1-fb90-b6c2d89fa1c9",
        "colab": {
          "base_uri": "https://localhost:8080/"
        }
      },
      "execution_count": null,
      "outputs": [
        {
          "output_type": "stream",
          "name": "stdout",
          "text": [
            "Model: \"model\"\n",
            "__________________________________________________________________________________________________\n",
            " Layer (type)                   Output Shape         Param #     Connected to                     \n",
            "==================================================================================================\n",
            " input_4 (InputLayer)           [(None, 1000)]       0           []                               \n",
            "                                                                                                  \n",
            " embedding_3 (Embedding)        (None, 1000, 300)    2375100     ['input_4[0][0]']                \n",
            "                                                                                                  \n",
            " spatial_dropout1d_3 (SpatialDr  (None, 1000, 300)   0           ['embedding_3[0][0]']            \n",
            " opout1D)                                                                                         \n",
            "                                                                                                  \n",
            " reshape_3 (Reshape)            (None, 1000, 300, 1  0           ['spatial_dropout1d_3[0][0]']    \n",
            "                                )                                                                 \n",
            "                                                                                                  \n",
            " conv_0 (Conv2D)                (None, 1000, 1, 32)  9632        ['reshape_3[0][0]']              \n",
            "                                                                                                  \n",
            " conv_1 (Conv2D)                (None, 999, 1, 32)   19232       ['reshape_3[0][0]']              \n",
            "                                                                                                  \n",
            " conv_2 (Conv2D)                (None, 998, 1, 32)   28832       ['reshape_3[0][0]']              \n",
            "                                                                                                  \n",
            " conv_3 (Conv2D)                (None, 996, 1, 32)   48032       ['reshape_3[0][0]']              \n",
            "                                                                                                  \n",
            " pool_0 (MaxPooling2D)          (None, 1, 1, 32)     0           ['conv_0[0][0]']                 \n",
            "                                                                                                  \n",
            " pool_1 (MaxPooling2D)          (None, 1, 1, 32)     0           ['conv_1[0][0]']                 \n",
            "                                                                                                  \n",
            " pool_2 (MaxPooling2D)          (None, 1, 1, 32)     0           ['conv_2[0][0]']                 \n",
            "                                                                                                  \n",
            " pool_3 (MaxPooling2D)          (None, 1, 1, 32)     0           ['conv_3[0][0]']                 \n",
            "                                                                                                  \n",
            " concatenate_3 (Concatenate)    (None, 4, 1, 32)     0           ['pool_0[0][0]',                 \n",
            "                                                                  'pool_1[0][0]',                 \n",
            "                                                                  'pool_2[0][0]',                 \n",
            "                                                                  'pool_3[0][0]']                 \n",
            "                                                                                                  \n",
            " flatten_3 (Flatten)            (None, 128)          0           ['concatenate_3[0][0]']          \n",
            "                                                                                                  \n",
            " dropout_3 (Dropout)            (None, 128)          0           ['flatten_3[0][0]']              \n",
            "                                                                                                  \n",
            " dense_3 (Dense)                (None, 2)            258         ['dropout_3[0][0]']              \n",
            "                                                                                                  \n",
            "==================================================================================================\n",
            "Total params: 2,481,086\n",
            "Trainable params: 2,481,086\n",
            "Non-trainable params: 0\n",
            "__________________________________________________________________________________________________\n"
          ]
        }
      ],
      "id": "ccgNgdFe2dXI"
    },
    {
      "cell_type": "code",
      "source": [
        "to_y_train = to_categorical(y_train, num_classes=2)\n",
        "to_y_valid = to_categorical(y_valid, num_classes=2)\n",
        "\n",
        "callback = EarlyStopping(patience=3) \n",
        "model.fit(x=X_train_fold, y=to_y_train, validation_data=(X_valid_fold, to_y_valid), batch_size=64, epochs=10, verbose=1, callbacks= [callback])"
      ],
      "metadata": {
        "papermill": {
          "duration": 1196.335588,
          "end_time": "2022-12-29T16:57:12.938963",
          "exception": false,
          "start_time": "2022-12-29T16:37:16.603375",
          "status": "completed"
        },
        "tags": [],
        "execution": {
          "iopub.status.busy": "2023-03-12T03:22:19.297153Z",
          "iopub.execute_input": "2023-03-12T03:22:19.297470Z",
          "iopub.status.idle": "2023-03-12T03:23:40.216423Z",
          "shell.execute_reply.started": "2023-03-12T03:22:19.297438Z",
          "shell.execute_reply": "2023-03-12T03:23:40.215725Z"
        },
        "trusted": true,
        "id": "Uaiv2ckl2dXK",
        "outputId": "307c362f-bef3-48a5-e050-b7148b217f01",
        "colab": {
          "base_uri": "https://localhost:8080/"
        }
      },
      "execution_count": null,
      "outputs": [
        {
          "output_type": "stream",
          "name": "stdout",
          "text": [
            "Epoch 1/10\n",
            "171/171 [==============================] - 206s 651ms/step - loss: 0.4040 - categorical_accuracy: 0.8126 - val_loss: 0.2647 - val_categorical_accuracy: 0.8925\n",
            "Epoch 2/10\n",
            "171/171 [==============================] - 22s 130ms/step - loss: 0.2539 - categorical_accuracy: 0.9025 - val_loss: 0.2460 - val_categorical_accuracy: 0.9009\n",
            "Epoch 3/10\n",
            "171/171 [==============================] - 14s 83ms/step - loss: 0.2087 - categorical_accuracy: 0.9205 - val_loss: 0.2471 - val_categorical_accuracy: 0.9002\n",
            "Epoch 4/10\n",
            "171/171 [==============================] - 12s 72ms/step - loss: 0.1767 - categorical_accuracy: 0.9345 - val_loss: 0.2605 - val_categorical_accuracy: 0.8984\n",
            "Epoch 5/10\n",
            "171/171 [==============================] - 12s 72ms/step - loss: 0.1472 - categorical_accuracy: 0.9470 - val_loss: 0.2594 - val_categorical_accuracy: 0.9031\n"
          ]
        },
        {
          "output_type": "execute_result",
          "data": {
            "text/plain": [
              "<keras.callbacks.History at 0x7fe423d75f10>"
            ]
          },
          "metadata": {},
          "execution_count": 34
        }
      ],
      "id": "Uaiv2ckl2dXK"
    },
    {
      "cell_type": "code",
      "source": [
        "prediction = model.predict(X_test_fold, batch_size=batch_size, verbose=1)\n",
        "y_pred_test_cnn = prediction.argmax(axis=-1)\n",
        "\n",
        "print(classification_report(y_test, y_pred_test_cnn,digits=4)) "
      ],
      "metadata": {
        "papermill": {
          "duration": 0.064263,
          "end_time": "2022-12-29T16:57:13.051215",
          "exception": false,
          "start_time": "2022-12-29T16:57:12.986952",
          "status": "completed"
        },
        "tags": [],
        "execution": {
          "iopub.status.busy": "2023-03-12T03:23:40.218331Z",
          "iopub.execute_input": "2023-03-12T03:23:40.218706Z",
          "iopub.status.idle": "2023-03-12T03:23:40.232219Z",
          "shell.execute_reply.started": "2023-03-12T03:23:40.218668Z",
          "shell.execute_reply": "2023-03-12T03:23:40.231364Z"
        },
        "trusted": true,
        "id": "6G4Ii4iJ2dXK",
        "outputId": "2aeec720-00e7-44b4-86db-a65fb56277cc",
        "colab": {
          "base_uri": "https://localhost:8080/"
        }
      },
      "execution_count": null,
      "outputs": [
        {
          "output_type": "stream",
          "name": "stdout",
          "text": [
            "3/3 [==============================] - 12s 2s/step\n",
            "              precision    recall  f1-score   support\n",
            "\n",
            "           0     0.9203    0.9079    0.9141      1400\n",
            "           1     0.8751    0.8915    0.8832      1014\n",
            "\n",
            "    accuracy                         0.9010      2414\n",
            "   macro avg     0.8977    0.8997    0.8987      2414\n",
            "weighted avg     0.9014    0.9010    0.9011      2414\n",
            "\n"
          ]
        }
      ],
      "id": "6G4Ii4iJ2dXK"
    },
    {
      "cell_type": "code",
      "source": [
        "from sklearn.metrics import confusion_matrix\n",
        "import matplotlib.pyplot as plt \n",
        "import seaborn as sns\n",
        "confuse = confusion_matrix(y_test, y_pred_test_cnn, labels=[0, 1])\n",
        "\n",
        "\n",
        "\n",
        "ax = sns.heatmap(confuse, fmt=\"\", annot=True, cmap='Blues')\n",
        "\n",
        "ax.set_title('Seaborn Confusion Matrix with labels\\n\\n');\n",
        "ax.set_xlabel('Predicted ')\n",
        "ax.set_ylabel('Actual');\n",
        "\n",
        "ax.xaxis.set_ticklabels(['Positive','Negative'])\n",
        "ax.yaxis.set_ticklabels(['Positive','Negative'])\n",
        "\n",
        "plt.show()"
      ],
      "metadata": {
        "colab": {
          "base_uri": "https://localhost:8080/",
          "height": 513
        },
        "id": "TMuAgke_0w7z",
        "outputId": "062469c7-ec1e-44e2-aa59-de258675cabb"
      },
      "id": "TMuAgke_0w7z",
      "execution_count": null,
      "outputs": [
        {
          "output_type": "display_data",
          "data": {
            "text/plain": [
              "<Figure size 640x480 with 2 Axes>"
            ],
            "image/png": "[encoded data removed]"
          },
          "metadata": {}
        }
      ]
    },
    {
      "cell_type": "code",
      "source": [
        "prediction = model.predict(X_valid_fold, batch_size=batch_size, verbose=1)\n",
        "y_pred_valid_cnn = prediction.argmax(axis=-1)\n",
        "\n",
        "print(classification_report(y_valid, y_pred_valid_cnn,digits=4)) "
      ],
      "metadata": {
        "colab": {
          "base_uri": "https://localhost:8080/"
        },
        "id": "noBO0hKVv2RS",
        "outputId": "48b19a1b-47c5-4271-9b97-f17fcfdc9edc"
      },
      "id": "noBO0hKVv2RS",
      "execution_count": null,
      "outputs": [
        {
          "output_type": "stream",
          "name": "stdout",
          "text": [
            "3/3 [==============================] - 1s 300ms/step\n",
            "              precision    recall  f1-score   support\n",
            "\n",
            "           0     0.9212    0.9063    0.9137      1547\n",
            "           1     0.8805    0.8990    0.8896      1188\n",
            "\n",
            "    accuracy                         0.9031      2735\n",
            "   macro avg     0.9008    0.9026    0.9016      2735\n",
            "weighted avg     0.9035    0.9031    0.9032      2735\n",
            "\n"
          ]
        }
      ]
    },
    {
      "cell_type": "code",
      "source": [
        "from sklearn.metrics import confusion_matrix\n",
        "import matplotlib.pyplot as plt \n",
        "import seaborn as sns\n",
        "confuse = confusion_matrix(y_valid, y_pred_valid_cnn, labels=[0, 1])\n",
        "\n",
        "\n",
        "\n",
        "ax = sns.heatmap(confuse, fmt=\"\", annot=True, cmap='Blues')\n",
        "\n",
        "ax.set_title('Seaborn Confusion Matrix with labels\\n\\n');\n",
        "ax.set_xlabel('Predicted ')\n",
        "ax.set_ylabel('Actual');\n",
        "\n",
        "ax.xaxis.set_ticklabels(['Positive','Negative'])\n",
        "ax.yaxis.set_ticklabels(['Positive','Negative'])\n",
        "\n",
        "plt.show()"
      ],
      "metadata": {
        "colab": {
          "base_uri": "https://localhost:8080/",
          "height": 513
        },
        "id": "h348dN8YxICM",
        "outputId": "e18a9203-a806-430d-f0fb-924043d4738a"
      },
      "id": "h348dN8YxICM",
      "execution_count": null,
      "outputs": [
        {
          "output_type": "display_data",
          "data": {
            "text/plain": [
              "<Figure size 640x480 with 2 Axes>"
            ],
            "image/png": "[encoded data removed]"
          },
          "metadata": {}
        }
      ]
    },
    {
      "cell_type": "code",
      "source": [],
      "metadata": {
        "id": "XN-9Q2F625a8"
      },
      "id": "XN-9Q2F625a8",
      "execution_count": null,
      "outputs": []
    }
  ]
}
